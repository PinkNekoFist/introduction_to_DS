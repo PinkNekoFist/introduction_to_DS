{
 "cells": [
  {
   "cell_type": "code",
   "execution_count": 2,
   "metadata": {},
   "outputs": [
    {
     "name": "stdout",
     "output_type": "stream",
     "text": [
      "    Rank           Title                    Genre        Director  \\\n",
      "2    118          Dangal   Action|Biography|Drama   Nitesh Tiwari   \n",
      "4     97   Kimi no na wa  Animation|Drama|Fantasy  Makoto Shinkai   \n",
      "15   862  Koe no katachi  Animation|Drama|Romance    Naoko Yamada   \n",
      "\n",
      "                                               Actors  Year  \\\n",
      "2   Aamir Khan| Sakshi Tanwar| Fatima Sana Shaikh|...  2016   \n",
      "4   Ryunosuke Kamiki| Mone Kamishiraishi| Ryo Nari...  2016   \n",
      "15     Miyu Irino| Saori Hayami| Aoi Yuki| Kensho Ono  2016   \n",
      "\n",
      "    Runtime (Minutes)  Rating  Votes  Revenue (Millions)  Metascore  \n",
      "2                 161     8.8  48969               11.15        NaN  \n",
      "4                 106     8.6  34110                4.68       79.0  \n",
      "15                129     8.4   2421                 NaN       80.0  \n"
     ]
    }
   ],
   "source": [
    "import pandas as pd\n",
    "import numpy as np\n",
    "import matplotlib.pyplot as plt\n",
    "\n",
    "# Load the data\n",
    "data = pd.read_csv('IMDB-Movie-Data.csv')\n",
    "\n",
    "# find top 3 movies with highest ratings in 2016\n",
    "top_3_movies = data[data['Year'] == 2016].nlargest(3, 'Rating')\n",
    "print(top_3_movies)"
   ]
  },
  {
   "cell_type": "code",
   "execution_count": 3,
   "metadata": {},
   "outputs": [
    {
     "name": "stdout",
     "output_type": "stream",
     "text": [
      "Daisy Ridley| John Boyega| Oscar Isaac| Domhnall Gleeson\n"
     ]
    }
   ],
   "source": [
    "# find the actor generating the highest average revenue\n",
    "actor_revenue = data.groupby('Actors')['Revenue (Millions)'].mean()\n",
    "highest_avg_revenue = actor_revenue.idxmax()\n",
    "print(highest_avg_revenue)"
   ]
  },
  {
   "cell_type": "code",
   "execution_count": 4,
   "metadata": {},
   "outputs": [
    {
     "name": "stdout",
     "output_type": "stream",
     "text": [
      "7.175000000000001\n"
     ]
    }
   ],
   "source": [
    "# find the average rating of Emma Watson’s movies\n",
    "emma_movies = data[data['Actors'].str.contains('Emma Watson')]\n",
    "emma_avg_rating = emma_movies['Rating'].mean()\n",
    "print(emma_avg_rating)"
   ]
  },
  {
   "cell_type": "code",
   "execution_count": 5,
   "metadata": {},
   "outputs": [
    {
     "name": "stdout",
     "output_type": "stream",
     "text": [
      "Director\n",
      "Ridley Scott          8\n",
      "M. Night Shyamalan    6\n",
      "Paul W.S. Anderson    6\n",
      "Name: Actors, dtype: int64\n"
     ]
    }
   ],
   "source": [
    "# find Top‐3 directors who collaborate with the most actors\n",
    "top_3_directors = data.groupby('Director')['Actors'].nunique().nlargest(3)\n",
    "print(top_3_directors)"
   ]
  },
  {
   "cell_type": "code",
   "execution_count": 6,
   "metadata": {},
   "outputs": [
    {
     "name": "stdout",
     "output_type": "stream",
     "text": [
      "               Actors  max_gap\n",
      "823    Justin Theroux       10\n",
      "2345       Tom Cruise       10\n",
      "2380       Will Smith       10\n"
     ]
    }
   ],
   "source": [
    "# Top‐3 actors whose movies lead to the largest maximum gap of years\n",
    "def max_gap(years):\n",
    "    return max(years) - min(years)\n",
    "\n",
    "# Split actors and calculate max_gap for each actor individually\n",
    "actor_gaps = data['Actors'].str.split('|').explode().reset_index()\n",
    "actor_gaps = actor_gaps.groupby('Actors')['index'].apply(lambda x: max_gap(data.loc[x, 'Year'])).reset_index()\n",
    "actor_gaps.columns = ['Actors', 'max_gap']\n",
    "\n",
    "# Sort by max_gap in descending order and get the top-3 actors\n",
    "top_3_actors = actor_gaps.sort_values(by='max_gap', ascending=False).head(3)\n",
    "\n",
    "print(top_3_actors)"
   ]
  },
  {
   "cell_type": "code",
   "execution_count": 8,
   "metadata": {},
   "outputs": [
    {
     "name": "stdout",
     "output_type": "stream",
     "text": [
      "{'Colin Farrell', ' Gabriella Wilde', ' John Corbett', ' Elijah Wood', ' Jared Leto', ' Graham McTavish', ' Mel Raido', ' Jake Gyllenhaal', ' Malin Akerman', ' Jessica Sula', ' Will Dalton', ' Eddie Baroo', ' Hugh Grant', ' Michelle Williams', ' Jason Momoa', 'Byung-hun Lee', ' Luke Kleintank', 'Gemma Arterton', 'Gabriella Wilde', ' Dustin Hoffman', 'Jessica Biel', ' Penn Badgley', ' Simon Helberg', 'Michael Shannon', ' Chris Cooper', ' Zooey Deschanel', ' Patricia Clarkson', 'Hugh Jackman', ' Gwyneth Paltrow', ' Tian Jing', ' Leonardo DiCaprio', ' Andy Lau', 'Ray Romano', ' Elizabeth Olsen', 'Steve Carell', ' Rodrigo Santoro', ' Dave Bautista', ' Dev Patel', ' Rose McGowan', ' Emmanuelle Chriqui', ' Felicity Jones', ' Christian Stolte', 'Sonoya Mizuno', 'Vera Farmiga', ' Julian Dennison', 'Topher Grace', ' Emilia Clarke', 'Scarlett Johansson', ' Jeremy Renner', ' Gerry Bednob', ' Jude Law', ' Su Elliot', 'Rainn Wilson', 'Christian Bale', ' Jai Courtney', ' Sheila Kelley', 'Annabeth Gish', ' Jack Madigan', ' Christoph Waltz', ' Mark Rylance', ' Jennifer Garner', ' Chris Hemsworth', ' Katherine Heigl', 'Richard Gere', ' Daniella Kertesz', ' Aidan Gillen', 'Gerard Butler', 'David Lyons', 'Casey Affleck', ' Thomas Brodie-Sangster', ' Harold Perrineau', ' Amanda Seyfried', ' Brady Corbet', ' Marcia Gay Harden', ' Jenna Elfman', ' Amber Tamblyn', ' Liana Liberato', 'Romain Duris', ' Thomas M. Wright', ' Kurt Russell', 'Zach Galifianakis', 'Sarah Roemer', ' Salim Kechiouche', ' Mira Sorvino', ' Ross Kimball', ' Jaime Winstone', ' Jon Daly', ' Justin Theroux', 'Billy Crystal', ' Jeffrey Wright', ' Kurt Fuller', ' Kiefer Sutherland', ' Helena Bonham Carter', 'Eddie Redmayne', ' Derek Jeter', 'Winona Ryder', 'Brandon Routh', ' Bill Nighy', 'Jason Clarke', 'Justin Timberlake', ' Patricia Arquette', ' Michael Cera', ' Helen Mirren', ' Pierre Coffin', ' Rhona Mitra', 'Jennifer Lawrence', ' Lorenza Izzo', 'Sean Faris', ' Johnny Depp', ' Robert Knepper', ' Jorma Taccone', ' Chloe Sevigny', ' Nina Dobrev', 'Thomas Jane', ' Javier Bardem', \"Ed O'Neill\", ' Aaron Burns', ' David Morse', ' Mary Steenburgen', 'Jared Harris', ' Jodie Foster', ' Kirby Bliss Blanton', ' Orlando Bloom', ' John Turturro', ' Morena Baccarin', ' Michelle Yeoh', ' Logan Huffman', ' Tijuana Ricks', 'Levi Miller', ' Min-sik Choi', ' Bel Powley', ' Philip Seymour Hoffman', ' Jeremy McWilliams', ' Oakes Fegley', ' Jovan Adepo', 'Kelsey Grammer', 'Carice van Houten', 'Simon Pegg', \"Vincent D'Onofrio\", 'Forest Whitaker', ' Tim Allen', ' Chris Messina', ' Anna Kendrick', ' Brad Pitt', ' Connie Nielsen', ' Raghuvir Joshi', ' James Ransone', ' Michael C. Hall', ' Emily Mortimer', ' Rebel Wilson', ' Ray Winstone', 'Viggo Mortensen', ' Alice Braga', ' Mark Ruffalo', ' Charlotte Gainsbourg', ' Lewis Black', 'Thomas Mann', ' Joel Kinnaman', 'Edgar Ramirez', ' Andrea Riseborough', ' Chris Pine', 'Sandra Bullock', ' Megan Park', 'Andy Samberg', ' Mickey Rourke', ' Colm Meaney', ' Vicky Krieps', 'Nick Swardson', 'Josh Brolin', ' Sean Patrick Thomas', ' David Thewlis', 'Samuel L. Jackson', ' Michelle Pfeiffer', ' Christopher Lee', ' Jim Sturgess', ' Terence Stamp', ' Sacha Baron Cohen', ' Alfred Molina', 'Evan Rachel Wood', ' Larry the Cable Guy', 'Matthew McConaughey', 'David Denman', ' Steve Carell', 'Anne Hathaway', 'Andreas Wisniewski', 'Lily Collins', ' Kerry Bishe', ' Joel David Moore', ' Benedict Wong', ' Gabriel Byrne', 'Ryan Reynolds', ' Jamie Blackley', ' Adam Brody', ' Dominique Tipper', ' Noomi Rapace', ' Albert Finney', ' Taylor Kitsch', 'Wendy Crewson', 'Deborah Kara Unger', ' Sylvia Hoeks', ' Vincent Cassel', 'Andrew Garfield', ' Peter Riegert', 'Oliver Platt', ' Tyler Hoechlin', 'Ferdia Walsh-Peelo', ' Jonathan Roumie', 'Judy Greer', ' Eddie Marsan', ' Alessandro Nivola', ' Randall Park', ' Jon Bernthal', ' Bryan Cranston', ' Christian Bale', 'Mae Whitman', ' Oprah Winfrey', 'Adam Sandler', 'Alice Braga', 'Matt Lanter', ' Antonio Banderas', ' Tabu', 'Tyler James Williams', 'Zachary Quinto', ' Kat Dennings', \"Dylan O'Brien\", ' Hugo Weaving', ' Tom Wilkinson', ' Lucy Fry', 'Taylor Kitsch', ' Jim Caviezel', ' Dakota Johnson', ' Iain Glen', ' John Doman', ' Teri Hatcher', 'Clive Owen', ' Matthew Zuk', ' Scarlett Johansson', ' Mia Stallard', 'Cheryl Hines', 'Patrick Stewart', ' Sarah Polley', ' Logan Marshall-Green', ' Bruno Campos', ' Maggie Grace', 'Brenton Thwaites', ' Josh Hutcherson', 'Naomi Watts', ' Greg Kinnear', ' Alexis Dziena', ' Ruth Wilson', ' Lauren Holly', ' Julianne Hough', ' Jack McBrayer', ' Vernetta Lopez', ' Sienna Miller', ' Ryan Reynolds', 'Eva Green', ' Iris Apatow', 'Michael Vartan', ' Lena Headey', ' Rachel Weisz', 'Anthony Edwards', 'Daniel Radcliffe', ' Lisa Kudrow', 'Ellen Page', ' Jack Reynor', ' Joey Lauren Adams', ' Taika Waititi', ' Terrence Howard', ' Rory J. Saper', ' Thomas Haden Church', ' Anthony Hopkins', 'Michelle Yeoh', ' Nick Frost', ' Anya Taylor-Joy', ' Gregg Weiner', ' Ana de Armas', ' Dominic Cooper', ' Hayley McElhinney', ' Amber Heard', ' Glenn Close', ' Dan Fogler', ' Linda Gegusch', 'Katherine Waterston', ' Alan Tudyk', ' Christina Hendricks', 'Timothy Spall', ' Sue Dahlman', ' Josh Gad', 'Brighton Sharbino', ' Nick Offerman', 'Alden Ehrenreich', ' John Hurt', 'Tina Fey', ' Josh Brolin', 'Kurt Russell', ' Mauricio Lopez', 'Tom Wilkinson', ' Mark Wahlberg', ' Matthew Morrison', ' Jared Harris', ' Jason Bateman', ' Blake Jenner', 'Emily Blunt', ' Armin Mueller-Stahl', ' Steven Mackintosh', \" Mo'Nique\", ' Ellie Kemper', ' Leonard Nimoy', 'Melanie Laurent', 'Bryan Cranston', 'Sophie Nelisse', ' Joey Morgan', ' Nicolas Cage', ' Jake Abel', ' Mary Elizabeth Winstead', ' Laura Linney', 'Lydia Wilson', 'Paul Giamatti', ' John Carroll Lynch', ' Charlie Hunnam', ' Nathan Phillips', ' Taylor Schilling', 'Russell Crowe', ' Jonathan Daniel Brown', ' Rose Byrne', 'Famke Janssen', ' Pierre Niney', 'Samantha Morton', ' Ewa Froling', ' Haley Lu Richardson', 'John Goodman', 'Zac Efron', ' Anton Yelchin', 'Nathan Fillion', ' Danny Trejo', 'Martin Freeman', 'Lesley Manville', ' Carla Gugino', ' Britt Robertson', ' Mandy Gonzalez', ' Charlotte Le Bon', ' Hunter McCracken', ' Keith Carradine', 'Paul Rudd', ' Tom Felton', ' Allison Tolman', 'Charlie Cox', 'Henry Cavill', 'Kelly Macdonald', ' Emile Hirsch', ' Bill Paxton', ' Olivia Colman', ' Jeff Bridges', ' Daniel Bruhl', ' Alan Alda', ' Charlie Heaton', ' Zoe Kravitz', ' Jason Cope', 'Olivia Colman', 'Thomas Haden Church', ' Billy Crudup', 'Billy Burke', ' Kate Bosworth', ' Liv Tyler', 'James Marsden', ' Justin Bartha', 'Nat Wolff', 'Travis Fimmel', 'Eric Godon', ' Joaquin Phoenix', ' Ben Foster', 'Ethan Hawke', 'Guillaume Baillargeon', ' Katie Holmes', ' Andrew Garfield', 'Idris Elba', ' Joan Cusack', 'Cori Gonzalez-Macuer', 'Robin Wright', ' Russell Brand', ' Jennifer Aniston', ' Matthew Marsden', 'Patrick Wilson', ' Ice Cube', 'Jane Levy', ' Tyler Perry', 'Lorenza Izzo', 'Christopher Walken', ' Sigrid Bouaziz', 'Katy Barker', 'Christina Applegate', 'Colton Haynes', 'Alison Brie', 'Keira Knightley', 'Suraj Sharma', ' Cameron Diaz', 'Channing Tatum', ' Tom Sizemore', ' Hans Matheson', ' John Goodman', ' John Hawkes', ' Harley Quinn Smith', 'Jennifer Aniston', ' Ed Skrein', ' Sandra Kinder', ' Lainie Kazan', ' Russell Crowe', ' Jeff Kahn', ' Sam Neill', 'Christopher Evan Welch', ' Shia LaBeouf', ' Richard Jenkins', ' Robbie Amell', 'Tom Hughes', ' Jordan Nagai', ' Lara Pulver', ' Frank Langella', ' Wentworth Miller', ' Peter Facinelli', 'Michael Mantell', ' 50 Cent', 'Margarita Levieva', ' Michael Nyqvist', ' Alison Pill', 'Jai Courtney', ' Deanna Dunagan', ' Victoria Justice', ' Michael Caine', 'Chloe Grace Moretz', ' Leehom Wang', ' Steve Tom', 'Seth Rogen', 'Joel Kinnaman', 'Will Smith', 'Rose McGowan', ' Casey Affleck', ' Josh Wiggins', ' Bradley Cooper', ' Emma Stone', ' Logan Lerman', 'Michael Ealy', ' Dick Van Dyke', 'Dominique Swain', 'Isabella Rossellini', ' Logan Miller', ' Sunny Pawar', ' Malcolm Sinclair', ' Vince Vaughn', ' Diane Kruger', ' Adewale Akinnuoye-Agbaje', ' Austin Stowell', ' Dylan Minnette', ' Emily Browning', ' Will Poulter', ' Evangeline Lilly', ' Kevin James', 'Mandy Moore', ' Jason Sudeikis', ' Mindy Kaling', 'Garance Marillier', ' Eva Mendes', ' Eli Roth', 'Lucas Till', ' Sally Hawkins', ' David Spade', ' Mohamed Akhzam', 'Lambert Wilson', 'Daniel Craig', ' Natalie Martinez', ' Keanu Reeves', ' Brian Marc', ' Clive Owen', ' Geoffrey Rush', 'Kit Harington', ' Chloe Grace Moretz', ' Leland Orser', 'Sean Penn', 'Liam Neeson', ' Oliver Platt', 'Kate Hudson', ' Rebecca Ferguson', ' Julie Andrews', 'Angela Bassett', ' Sam Claflin', 'Amanda Bynes', ' Jamie Dornan', 'Tilda Swinton', 'Hayley Atwell', ' Andy Garcia', 'Ryoko Seta', ' Joe Anderson', ' Toni Collette', ' Jessica Lucas', ' Anil Kapoor', 'Jared Leto', ' Michael Rooker', ' Lin Shaye', ' Emily Meade', ' Odeya Rush', ' Anthony Mackie', ' Brenda Blethyn', 'Liana Liberato', ' Mariah Carey', ' Jennifer Connelly', 'Viola Davis', 'Chris Evans', 'Michael Nyqvist', ' Sigourney Weaver', 'Ewan McGregor', ' Olivia Cooke', ' Seth MacFarlane', ' Annabelle Attanasio', ' Kathleen Quinlan', 'Akiva Schaffer', 'Diane Lane', ' Garrett M. Brown', 'Emma Watson', ' Idris Elba', 'Elijah Wood', ' Emma Roberts', ' Lucas Black', ' Albert Brooks', ' Daniel Henshall', ' Josef Altin', ' Dermot Mulroney', ' Dax Flame', ' Geoffrey Arend', 'Jon Favreau', 'Radha Mitchell', ' Elle Fanning', ' Asa Butterfield', 'Charlie Day', ' Jennifer Lawrence', ' Florence Clery', ' Aurelien Recoing', 'Christopher Plummer', 'Robert De Niro', 'Shia LaBeouf', ' Steve Wiebe', 'Ken Stott', ' Luing Andrews', ' Tom Holland', ' Andy Serkis', ' Jessica Lange', 'Kristen Bell', ' Gael Garcia Bernal', 'Zoey Deutch', 'Cedric the Entertainer', ' Ed Helms', ' Dakota Fanning', 'Jim Broadbent', ' Michael Ealy', ' Jack Black', ' Dean Mumford', ' Michael Yare', 'Charlie Hunnam', ' J. Todd Smith', ' Jacob Tremblay', ' Jorge Garcia', ' Kit Harington', ' Jamie Foxx', ' January Jones', ' Madison Wolfe', ' Anika Noni Rose', ' Tilda Swinton', ' Dougie McConnell', 'Toby Kebbell', ' Justin Timberlake', ' Ali Larter', ' Ella Rumpf', ' Timothy Spall', 'John Cusack', 'Aaron Paul', ' Oona Chaplin', ' Andrew Scott', ' Judi Dench', ' Joan Allen', ' Susan Sarandon', ' Michael Constantine', ' Zachary Bennett', ' Morgan Freeman', 'Danny McBride', ' Brooklyn Decker', ' Charles S. Dutton', 'Natalie Portman', ' Robert Redford', ' Robin Williams', ' Leslie Jones', 'Tadanobu Asano', 'Matthew Macfadyen', ' Paul Rudd', ' Zoe Saldana', ' Jack Huston', ' Lea Seydoux', ' Ned Beatty', ' Naomi Watts', ' Emily Ratajkowski', ' Richard Gere', 'Max Martini', ' Tom Costello', ' Ji-min Han', ' Kati Outinen', 'Robert Pattinson', ' Cate Blanchett', 'Mark Wahlberg', 'Anders Danielsen Lie', ' Michael Kenneth Williams', ' Maria Doyle Kennedy', ' Katee Sackhoff', 'David Oyelowo', ' Sanjeev Bhaskar', 'Melissa McCarthy', 'Elizabeth Berrington', ' Margot Robbie', ' Jamie Campbell Bower', 'Andy Serkis', ' Sean Bridgers', ' Brooke Shields', ' Morgan Lily', ' Rachel Blanchard', ' Aryana Engineer', ' Temuera Morrison', ' Tom Hanks', 'Sally Field', ' Lisa Thoreson', ' Don Thompson', ' Abigail Breslin', ' Josh Peck', ' Yoo Gong', ' Brittany Murphy', ' Michael B. Jordan', ' Paul Giamatti', 'Jeffrey Wright', ' Eric Bana', 'Anthony Hopkins', ' Max Minghella', 'Jessica Chastain', 'Benicio Del Toro', ' Janelle Monae', ' Rupert Friend', 'Noomi Rapace', ' Florence Kastriner', 'Mila Kunis', ' Paul Dano', ' Adam Driver', ' Harvey Keitel', ' Thomas Jane', 'Bryce Dallas Howard', 'Freddie Crowder', ' Arnold Schwarzenegger', ' Dan Byrd', ' Shiloh Fernandez', ' Werner Herzog', ' Karl Urban', 'Frank Madigan', \" John D'Leo\", ' Emma Fitzpatrick', 'Robert Duvall', ' Zach Galifianakis', ' Kyra Sedgwick', ' Sarah Snook', ' Peter Sarsgaard', ' Matthew Fox', ' Duncan Joiner', ' Lou Taylor Pucci', ' Annie Rose Buckley', 'Stephen Moyer', 'Bruce Willis', ' Bryan Greenberg', ' Justin Long', 'Anthony Mackie', ' Riccardo Scamarcio', ' John Leguizamo', ' Jerry Stiller', ' Kate Mara', ' Liev Schreiber', ' Aasif Mandvi', 'Vincent Cassel', ' Dakota Goyo', ' Derek Luke', 'Will Ferrell', 'Brad Pitt', ' Amara Miller', ' Benicio Del Toro', ' Jennifer Jason Leigh', ' Emilie de Ravin', ' Gemma Ward', ' Vincent Ebrahim', ' Karel Hermanek Jr.', ' Anne Hathaway', 'Sally Phillips', 'Andie MacDowell', ' Anna Hutchison', ' Liam Neeson', ' Kate Hudson', ' Martin Henderson', ' Simon Pegg', 'Fran Kranz', ' Jordan Carlos', ' Harry Connick Jr.', ' Salma Hayek', ' Taylor Lautner', 'James McAvoy', ' Brian Geraghty', ' Heath Ledger', ' Benjamin Bratt', ' Rene Russo', ' Zach Grenier', 'James Hamrick', ' Corey Stoll', ' Patrick Wilson', 'Eddie Murphy', ' Jonathan Groff', 'Dale Dickey', ' Oona Laurence', ' Don Cheadle', 'Hilary Swank', ' Mathieu Amalric', 'Cameron Diaz', 'Matthias Schoenaerts', 'Adewale Akinnuoye-Agbaje', ' Bruce Willis', ' Jennifer Ehle', ' Burt Young', 'Rachel Korine', 'Oona Laurence', ' John Gallagher Jr.', 'Emilia Clarke', ' Sam Worthington', ' Toby Kebbell', ' Brie Larson', 'Brendan Fraser', ' Jane Lynch', 'Megan Fox', ' Til Schweiger', 'Felicity Jones', ' Blake Lively', 'Mark Chao', 'Ben Kingsley', ' Sam Rockwell', ' Kiernan Shipka', 'Ben Barnes', ' Gabriel Basso', ' Viggo Mortensen', ' Rosemarie DeWitt', 'Brie Larson', 'Logan Lerman', ' Lucy Walters', ' Neil Patrick Harris', 'Sigourney Weaver', ' Alex Pettyfer', ' Jesse Eisenberg', ' Riley Keough', ' Teresa Palmer', ' Kaitlin Olson', ' Nick Krause', ' Anna Friel', ' Phylicia Rashad', ' Zachary Levi', ' Duncan Duff', ' Ophelia Lovibond', 'Dakota Johnson', ' Mike Vogel', ' Josh Lucas', 'Dev Patel', ' Christian Cooke', ' Linh Dan Pham', ' Bokeem Woodbine', ' T.J. Miller', 'Sam Rockwell', ' Laurence Fishburne', ' Kevin Spacey', 'Kate Winslet', ' Jim Broadbent', ' Angourie Rice', ' Katie Crown', ' Jennifer Morrison', ' Ewan McGregor', 'Cate Blanchett', ' Armie Hammer', ' Sam Trammell', ' Mahershala Ali', ' Peter McRobbie', 'Karen Gillan', ' Emory Cohen', ' Melanie Laurent', ' Carly Rae Jepsen', 'Julianne Moore', ' Lucy Boynton', ' Robert Patrick', 'Jim Sturgess', ' America Ferrera', ' Diane Lane', ' James Gandolfini', ' Giovanni Ribisi', ' Joel Courtney', ' Kyle Chandler', ' Jessica Brown Findlay', ' Colin Firth', 'Mel Gibson', ' Reese Witherspoon', ' Mireille Enos', ' Rooney Mara', ' Willem Dafoe', ' Alexander Skarsgard', 'Alfred Molina', ' Wei Tang', ' Matt Long', ' Alexandra Daddario', ' Mackenzie Foy', 'Catherine Keener', ' Dwayne Johnson', ' Sam Elliott', 'Tom Mison', \" Zac Mattoon O'Brien\", ' Xavier Samuel', ' Brendan Gleeson', ' Will Yun Lee', 'Sylvester Stallone', 'Eloise Mumford', 'Vinnie Jones', ' Nick Nolte', ' Gemma Jones', 'Jean-Claude Van Damme', ' Naomie Harris', ' Kara Hayward', ' Alfie Allen', ' Kristen Stewart', 'Jeff Bridges', ' Rachel House', 'Hailee Steinfeld', ' Orto Ignatiussen', 'Michiel Huisman', 'Ellar Coltrane', 'Don Cheadle', 'Donald Sutherland', ' Milla Jovovich', ' John Ratzenberger', ' Tommy Lee Jones', ' Ryan Guzman', 'Rory Cochrane', ' Billy Burke', ' Brandon T. Jackson', ' Boyd Holbrook', ' Jane Levy', 'Aomi Muyock', ' Ray Stevenson', 'James Franco', 'Jennifer Garner', 'Oscar Isaac', 'Kate Mara', ' Will Ferrell', ' Lars Eidinger', ' Luke Bracey', 'Laurent Lucas', 'Golshifteh Farahani', ' Jamie Bell', ' Ron Perlman', ' Garret Dillahunt', 'Taraji P. Henson', ' India Eisley', 'Kate Bosworth', 'Alexander Black', ' Shea Adams', ' Freida Pinto', ' Wes Bentley', ' Zachary Quinto', ' Jessica Biel', ' Ruby Barnhill', ' Jessica Alba', ' Sophie Perry', ' Ben Walker', \" Vincent D'Onofrio\", 'Jason Momoa', 'Richard Jenkins', ' Sarah Gadon', ' Kylie Rogers', ' Mark Strong', ' Gabriel Bateman', 'Noah Ringer', ' Ralph Fiennes', ' Adrian Grenier', ' Donald Sutherland', ' Ezra Miller', 'Karen Disher', ' Julianna Margulies', ' Donnie Yen', ' Matt Bomer', ' Ashley Benson', 'Chris Pine', ' Tangie Ambrose', ' Ella Anderson', 'Scott Eastwood', ' Nikolaj Coster-Waldau', ' Jack Nicholson', ' Lois van Wijk', 'Rachel Bilson', 'Matt Damon', 'Denzel Washington', ' Julianne Moore', 'Rooney Mara', ' Michael Gambon', 'Stanley Tucci', 'Lily-Rose Depp', ' AnnaSophia Robb', 'Michelle Williams', ' Arturo Castro', \" Jason O'Mara\", 'Tom Hanks', ' Stellan Skarsgard', 'Emile Hirsch', ' Christopher McDonald', ' Melissa Leo', ' Paul Walker', ' C.H. Evans', ' Jonny Weston', ' Joel McHale', ' Nicole Kidman', ' Ariel Levy', ' Shailene Woodley', ' Amy Adams', ' Gaby Hoffmann', 'Jack Black', 'Michael Fassbender', ' Candice Bergen', ' Alia Shawkat', ' Forest Whitaker', ' John Malkovich', ' Kathy Bates', ' Raffey Cassidy', ' Michael Pitt', ' Jeffrey Dean Morgan', 'Rosamund Pike', ' Owen Wilson', ' Noel Fisher', ' Vanessa Ferlito', ' Jane Fonda', ' Halle Berry', 'Laura Dern', ' Mason Lee', 'Jim Carrey', ' Daniel Radcliffe', 'Asa Butterfield', \"Jack O'Connell\", ' Anna Camp', 'Dan Stevens', 'Jamie Foxx', ' Oaklee Pendergast', 'Moises Acevedo', 'Dominic West', ' John Cullum', 'Natasha Henstridge', ' Sarah Silverman', ' Katherine Waterston', ' Gemma Arterton', 'Adam Brody', ' Laurie Holden', ' Theo James', 'Lake Bell', ' William Fichtner', ' Vin Diesel', 'Momo Dione', ' Jeremy Irons', 'Taron Egerton', 'Tony Shalhoub', ' Danny McBride', ' Steve Lantz', 'Giancarlo Esposito', 'Olivia Wilde', 'Adrien Brody', ' Pierce Brosnan', 'Saoirse Ronan', ' T.I.', ' Kevin Bacon', 'Mary-Louise Parker', ' Portia Doubleday', ' Lukas Hassel', 'Guy Pearce', 'Justin Long', ' Dakota Blue Richards', ' Peter Dinklage', ' Allen Leech', ' Megan Fox', 'Anna Faris', 'Alicia Vikander', ' Martin Freeman', ' Michael Pena', 'Joseph Gordon-Levitt', 'Teresa Palmer', 'Brittany Snow', 'Adam Rodriguez', ' Richard Armitage', ' Isabelle Fuhrman', 'Ted Levine', 'Sacha Baron Cohen', 'Kerry Washington', 'Morgan Saylor', ' Bruce Boxleitner', 'Ezra Miller', 'Milla Jovovich', 'Ryan Gosling', 'Analeigh Tipton', 'Helena Bonham Carter', ' Robert Carlyle', 'Gary Oldman', ' Kelly Adams', 'Colin Firth', ' Adrian Martinez', 'Karl Urban', ' Noah Taylor', ' Gretchen Mol', ' Michael Sheen', ' Miles Heizer', ' Julia Ormond', ' Nancy Kwan', ' Leslie Bibb', ' Common', ' Marion Cotillard', 'Abigail Breslin', ' Aiden Longworth', ' Bree Turner', ' Jalil Lespert', ' Alan Arkin', ' Ike Barinholtz', ' Will Arnett', ' Paula Prentiss', 'Lily James', ' Rachel Wood', ' Henry Cavill', 'Josh Hutcherson', ' Elizabeth Debicki', ' Martin McCann', ' Rob Riggle', ' Jonah Hill', 'Willem Dafoe', ' Ron Livingston', 'Martin Stringer', 'Diego Klattenhoff', 'Laurence Fishburne', 'Chatchawai Kamonsakpitak', ' Jackson Rathbone', ' Julia Roberts', ' James Badge Dale', ' Imogen Poots', ' Aidan Turner', 'Amy Poehler', ' Jasper Newell', 'Trenton Rogers', ' Rebecca Hall', ' Rabah Nait Oufella', ' Matthew Macfadyen', ' Oscar Isaac', 'Miles Teller', ' Eric Winter', 'James Badge Dale', ' Tom Cruise', 'Michael Stuhlbarg', ' Juliet Rylance', ' Joe Cobden', ' Donna Murphy', ' Vincent Kartheiser', ' Lior Ashkenazi', 'Ronnie Gene Blevins', ' Jason Segel', ' Nicola Peltz', ' Barry Ward', ' Edie Falco', ' Katey Sagal', ' Antje Traue', ' Hayden Panettiere', ' Emma Thompson', 'Ralph Fiennes', 'Peter Dinklage', 'Scott Lawrence', ' Madeleine West', 'Chris Isaak', ' Stanley Tucci', ' Taylor Swift', ' Andy Samberg', 'Charlotte Gainsbourg', ' Leslie Mann', ' Ellen Burstyn', 'Tye Sheridan', ' Rufus Sewell', 'Jon Bernthal', ' Cillian Murphy', ' Steve Coogan', ' Eric Stonestreet', 'Geoffrey Rush', ' Charles Dance', ' Ruben Blades', ' Kevin Hart', 'Sam Worthington', ' Jessica Barth', 'Vanessa Hudgens', 'Jeremy Renner', ' Catalina Sandino Moreno', ' Maria Dizzia', ' Gary Cole', ' Zoey Deutch', ' Richard Madden', 'Josh Hartnett', 'Jemima West', ' Aaron Eckhart', ' Diego Luna', ' Dax Shepard', ' Edward Norton', 'Chris Pratt', ' Guy Pearce', 'Owen Wilson', 'Nazanin Boniadi', ' Lynn Collins', 'Jackie Earle Haley', 'Jennifer Jason Leigh', 'Seth MacFarlane', ' Arnaud Viard', ' Haley Joel Osment', 'Dakota Fanning', 'John Krasinski', 'Lewis MacDougall', ' Ari Graynor', ' Jim Carrey', 'Robert Patrick', ' Aaron Taylor-Johnson', ' Dane Cook', ' Emilie Leclerc', 'Rachel Weisz', ' Alice Eve', ' Jessica Barden', 'Mia Wasikowska', ' Michael McElhatton', ' Kyle Gallner', ' Douglas M. Griffin', ' Rupert Grint', 'Jamal Woolard', ' Billy Bob Thornton', ' Anna Faris', 'Faith Wladyka', 'Benedict Cumberbatch', ' Sarita Choudhury', 'Jamie Dornan', ' Rachel McAdams', 'Stellan Skarsgard', ' Olivia Thirlby', ' Luke Evans', ' Jordana Brewster', 'Jake Johnson', 'Paul Bettany', ' Dominique McElligott', ' Seth Rogen', ' Ty Simpkins', ' Timothy Olyphant', ' Jennifer Saunders', ' Adam Levine', ' Penelope Cruz', ' Karin Konoval', ' Sylvester Stallone', 'Michael Caine', 'Hugo Weaving', ' Kevin McKidd', ' Haley Bennett', ' Adil Hussain', ' Rose Leslie', 'Annalise Basso', ' Hailee Steinfeld', ' CCH Pounder', ' Kevin Costner', 'John C. Reilly', 'Dwayne Johnson', 'Brandon T. Jackson', 'Demian Bichir', 'Vin Diesel', ' Rima Te Wiata', 'Lea Seydoux', ' Art Parkinson', ' Kathryn Hahn', ' Michael McDonald', ' Rosamund Pike', ' Maude Apatow', ' Penelope Wilton', ' Caitlyn Rund', 'Jesse Eisenberg', ' Edgar Ramirez', ' Bruce Greenwood', 'Kate Beckinsale', ' Idina Menzel', ' Sarah Paulson', ' Robert Pattinson', ' Tony Danza', ' Alicia Vikander', ' Jaden Smith', 'Luke Wilson', 'Max von Sydow', ' Lili Taylor', ' Ethan Suplee', ' Josh Brener', ' ?lafur Darri ?lafsson', 'Gabourey Sidibe', 'Renee Zellweger', ' George Lopez', ' Kristen Wiig', ' Kari Matchett', 'Emma Greenwell', 'Elisabeth Moss', ' Robert De Niro', ' Joseph Gordon-Levitt', ' AJ Michalka', 'Lauren Graham', ' Kaya Scodelario', ' Hugh Laurie', 'Daniel Bruhl', ' Taraji P. Henson', ' Maggie Q', 'Mark Strong', 'Jason Statham', ' Linda Cardellini', ' Jon Favreau', 'Kevin Spacey', ' Julian Barratt', 'Xavier Samuel', ' Lynsey Taylor Mackay', ' Emily Blunt', 'Anna Kendrick', ' Milo Ventimiglia', ' Paul Anderson', ' Isla Fisher', 'Tom Hardy', 'Brian Cox', ' Maria Bello', ' Brittany Snow', 'Sullivan Stapleton', 'Francesc Albiol', ' Nathan Fillion', 'Isaiah Stone', ' Wenwen Han', ' Terry Crews', 'Emily Browning', ' Lucas Till', 'Emory Cohen', 'Kristen Wiig', 'Freddie Highmore', ' David Harbour', 'Reese Witherspoon', 'Ruth Wilson', 'Ruth Negga', ' Bob Balaban', ' Alden Ehrenreich', ' Stephen Merchant', ' Chris Wedge', ' Ashlyn Sanchez', ' Carmen Ejogo', ' Gabriela Lopez', 'Nicole Kidman', ' Michelle Monaghan', ' Aldis Hodge', ' Gattlin Griffith', 'Ian McKellen', ' Jacki Weaver', ' Kate Beckinsale', ' Ewen Leslie', ' Max Greenfield', 'Leonardo DiCaprio', 'Rihanna', 'Marley Shelton', ' Benedict Cumberbatch', ' Julie Walters', ' Jeff Daniels', ' Tao Okamoto', ' Taissa Farmiga', 'Charlize Theron', 'Salma Hayek', ' Laura Dern', 'Craig Van Hook', 'Joseph Mawle', ' Ryan Gosling', 'Nick Offerman', ' Nicholas Hope', ' Dolph Lundgren', ' Tracy Letts', 'Joshua Leonard', ' Jonny Brugh', ' Michael Keaton', 'Blake Jenner', ' Nathalie Boltt', ' Michelle Rodriguez', ' Selena Gomez', ' Usher Raymond', ' Ni Ni', ' Olivia Munn', ' Sharlto Copley', 'Ben Whishaw', ' Miyavi', ' Christopher Plummer', ' Rosario Dawson', ' Ansel Elgort', 'Meryl Streep', 'Chris Hemsworth', ' Colm Feore', 'Edward Asner', 'Anthony LaPaglia', 'Teyonah Parris', 'Hayden Christensen', ' Claire Danes', ' Tye Sheridan', \" Jack O'Connell\", ' Saoirse Ronan', ' Johnny Simmons', 'Shailene Woodley', ' Ben Kingsley', ' Scott Mescudi', ' Moises Arias', ' Sally Field', 'Adam Pally', ' Michael Shannon', ' Danielle Nicolet', ' Laura Ramsey', 'Alex Pettyfer', ' Juno Temple', ' Melissa Benoist', 'Tyler Perry', ' Austin Abrams', ' Jo Hartley', ' Christopher Fitzgerald', 'Elle Fanning', ' Ian McKellen', ' Amy Ryan', ' James Marsden', ' Catherine Keener', ' Camille Cottin', ' Gary Oldman', 'Joe Alwyn', ' Dominic West', 'Aidan Quinn', 'Billy Crudup', ' Danny DeVito', ' Brian Howe', ' James DuMont', ' Jon Hamm', 'Amy Adams', ' Robert Sheehan', 'Nia Vardalos', ' Djimon Hounsou', ' Kate Upton', ' Maggie Gyllenhaal', ' Octavia Spencer', 'Dennis Quaid', ' Tom Prior', 'Lena Endre', 'Jason Flemyng', ' Danny Glover', ' Bridgette Barrett', ' Robin Wright', \"Fionn O'Shea\", ' Emma Watson', ' Patrick Dempsey', ' Sam Riley', 'Peter Stormare', ' Kirsten Dunst', ' Greta Gerwig', 'Derek Jacobi', ' Jeremy Davies', ' Kagiso Kuypers', ' Joseph Fiennes', 'Jennifer Lopez', ' Marton Csokas', ' Alex Fisher', ' Hugh Jackman', ' Dean Norris', ' Paula Patton', ' Scott Glenn', ' Natascha McElhone', ' Chris Rock', ' Michael Chiklis', ' Daniel Craig', ' Klara Kristin', ' Isabelle Nelisse', ' Olivia Williams', ' Charlie Day', 'Brendan Gleeson', ' Tom Hardy', ' Woody Harrelson', 'Rebecca Hall', ' Lily Rabe', ' Salli Richardson-Whitfield', ' Daniel Gimenez Cacho', 'Kodi Smit-McPhee', ' Tyrese Gibson', ' Judy Davis', 'Jared Gilman', ' Famke Janssen', ' Irrfan Khan', ' Chris Evans', 'Ana de Armas', ' Robert Downey Jr.', ' Chris Pratt', ' Eva Green', ' F. Murray Abraham', ' Garrett Hedlund', 'Alice Englert', \" Frances O'Connor\", ' Alan Rickman', ' Daniel Olbrychski', ' Sean Bott', ' RJ Cyler', ' Rinko Kikuchi', 'Katherine Heigl', ' Craig Ferguson', 'Alexandra Maria Lara', ' Nat Wolff', ' Chiwetel Ejiofor', 'Tim Blake Nelson', 'Quvenzhane Wallis', ' Ethan Hawke', ' Storm Acheche Sahlstrom', ' Melissa McCarthy', 'Sasha Lane', ' Stephen Henderson', ' J.K. Simmons', ' Noah Wiseman', ' Craig Robinson', 'Judah Lewis', 'Nicolas Cage', 'Emma Thompson', ' Ellen Page', ' Bryce Dallas Howard', 'Tobey Maguire', ' Marlon Wayans', ' Tobias Menzies', ' Damon Wayans Jr.', ' Maika Monroe', 'Shannon Woodward', ' Chadwick Boseman', \" De'Shawn Washington\", ' Karolina Gruszka', ' Bella Heathcote', 'Adelaide Kane', 'Mark Rylance', 'Bradley Cooper', 'Billy Connolly', ' Topher Grace', 'Cynthia Nixon', 'Jena Malone', ' Vera Farmiga', ' Nicholas Galitzine', ' Zoe Bell', 'Paddy Considine', ' Max Burkholder', ' Maddie Ziegler', ' Rila Fukushima', ' Steve Buscemi', ' Dana Fuchs', 'Alexander Skarsgard', ' Allison Janney', ' Michael Fassbender', ' Steve Zahn', 'Domhnall Gleeson', ' Ed Oxenbould', 'Anton Yelchin', 'Jay Baruchel', ' Diego Boneta', ' Imelda Staunton', ' Danny Huston', ' Bella Thorne', 'Ray Winstone', ' James McAvoy', ' Jessica Chastain', ' Keira Knightley', ' Kristin Chenoweth', ' Joel Edgerton', ' Paul Birchard', ' Tessa Thompson', ' Adrianne Palicki', ' Alison Brie', 'Julianne Hough', 'Christopher Mintz-Plasse', 'Stephen Lang', ' Carrie-Anne Moss', 'Kenneth Branagh', 'Tom Cruise', 'Genesis Rodriguez', ' Jeremy Irvine', ' Julia Stiles', ' Danila Kozlovsky', ' Crispin Glover', ' Jason Schwartzman', ' Bonnie Hunt', ' James Frecheville', ' Wendi McLendon-Covey', 'Jessica Brown Findlay', 'Paul Dano', ' Toby Jones', ' Freddy Rodriguez', ' Erin Moriarty', ' Amanda Bynes', ' Christian Stevens', 'Jake Gyllenhaal', ' Sam Shepard', ' Kate McKinnon', ' Gerard Butler', ' Kodi Smit-McPhee', ' Karl Glusman', ' Dianna Agron', ' Barkhad Abdirahman', 'Richenda Carey', ' Walton Goggins', 'Zooey Deschanel', 'Edward Norton', ' Tim Roth', ' Kate Winslet', ' Blythe Danner', ' Andrew Simpson', ' Sean Bean', ' Tom Hiddleston', 'Essie Davis', 'Dustin Hoffman', ' Cara Delevingne', ' Cole Konis', 'Chiwetel Ejiofor', 'Ben Stiller', ' Cara Buono', 'Richard Dreyfuss', ' Keith David', 'Jonah Hill', \" Beverly D'Angelo\", ' Jesse Plemons', ' Tina Fey', ' Riley Thomas Stewart', ' Christopher Mintz-Plasse', ' Lorraine Toussaint', ' Stephen Dorff', ' Jasmine Trinca', ' Val Kilmer', ' Rosie Huntington-Whiteley', 'Jason Sudeikis', 'Jackie Chan', 'Elijah Smith', ' John Cusack', ' Jason Clarke', ' Drew Barrymore', ' Demi Moore', ' Michael Douglas', ' Meryl Streep', ' Matthias Schoenaerts', 'Michael Cera', 'Robert Downey Jr.', 'Angelina Jolie', 'Javier Bardem', ' Justice Smith', ' Nadine Velazquez', \"Jason O'Mara\", ' Taron Egerton', ' Matthew McConaughey', ' Mila Kunis', ' Domhnall Gleeson', ' Isabel Lucas', ' Rip Torn', 'Kevin Costner', ' Jenny Slate', ' Olga Kurylenko', 'Amr Waked', 'Aaron Taylor-Johnson', ' Samantha Isler', ' Antonia Ribero', 'Lucas Hedges', 'Malin Akerman', 'Benjamin Walker', ' Thandie Newton', \"Auli'i Cravalho\", ' Joe Manganiello', ' Damaine Radcliff', ' Alec Baldwin', 'Kenny Wormald', 'Emma Stone', ' Matthew Goode', ' Megan Charpentier', 'Philip Seymour Hoffman', 'Keanu Reeves', ' Cobie Smulders', ' Dan Stevens', ' Gal Gadot', ' Ving Rhames', 'Fred Dalton Thompson', ' Saurabh Shukla', ' Kieran Culkin', ' Dave Franco', 'Kirsten Dunst', 'Ben Winchell', ' Ang Phula Sherpa', 'Kim Coates', ' David Wenham', ' Colin Hanks', ' Jae Head', 'Karen Allen', 'Nicholas Hoult', 'Michael Chiklis', ' Ian McShane', ' Mary McCormack', ' Lily Cole', ' Alistair Abell', ' Aaron Paul', ' Ciaran Hinds', 'Neel Sethi', ' Bill Hader', ' Keri Russell', ' Kevin Kline', ' Maya Rudolph', ' Colin Farrell', 'Andre Braugher', 'Amanda Seyfried', 'Joaquin Phoenix', ' McCaul Lombardi', ' Stacy Martin', ' Natalie Portman', ' Thomas Middleditch', ' John C. Reilly', ' Paul Reiser', 'Michael B. Jordan', ' Kristin Scott Thomas', ' Samuel L. Jackson', 'Brian Dennehy', 'Helen Mirren', ' Evan Rachel Wood', ' Brenton Thwaites', 'Vince Vaughn', 'Mark Ruffalo', ' Aaron Yoo', ' James Franco', 'Jason Segel', 'Melissa Leo', ' Ben Whishaw', ' Barry Pepper', 'Jack Huston', 'Amy Schumer', 'Sarah Dumont', ' Channing Tatum', ' Dane DeHaan', 'Scott Speedman', ' Kelly Reilly', ' Julie Benz', ' Elizabeth Banks', ' Olivia Wilde', 'Kristen Stewart', ' Josh Duhamel', 'Sarah Clarke', 'Sam Neill', 'Danny Sapani', ' Antonio Tarver', ' Brian Caspe', ' Daniel Zovatto', ' Nicholas Braun', ' Oliver Cooper', ' Renee Zellweger', ' Gil Birmingham', ' Jean Reno', 'Daisy Ridley', ' Pablo Schreiber', ' Jet Li', 'Arnold Schwarzenegger', ' Kang-ho Song', 'Jason Bateman', 'Woody Allen', ' Sarah Roemer', ' Barkhad Abdi', 'Michael Keaton', ' David Strathairn', 'Ellen DeGeneres', 'Alia Shawkat', 'George Clooney', ' Rachael Blake', ' Sean Penn', ' Ashton Kutcher', ' Janet McTeer', ' Zoe Kazan', ' Rob Corddry', ' Adam Devine', ' Gugu Mbatha-Raw', ' Viola Davis', 'Annette Bening', ' John Hodgman', 'Jemaine Clement', ' Sebastian Stan', ' Aubrey Plaza', ' Jordi Moll?', 'Ginnifer Goodwin', 'Luke Evans', ' Nicholas Hoult', ' Moe Dunford', ' Bill Murray', ' Sienna Guillory', ' Tony Shalhoub', 'Mickey Rourke', ' Israel Broussard', ' William Hurt', 'Bailey Anne Borders', 'Mike Vogel', ' Max Irons', ' Stephen Rea', 'Mia Goth', ' Ed Harris', 'Anders Holm', 'Tommy Lee Jones', ' Adele Exarchopoulos', ' Miles Teller', ' Mateo Arias', ' Lake Bell', 'Alexander Ludwig', ' Jenna Dewan Tatum', ' Angelina Jolie', ' Miranda Cosgrove', 'Tom Hiddleston', ' Michael Parks', ' Matthew Perry', ' Mary-Louise Parker', ' George MacKay', 'Abbie Cornish', 'Rosie Shaw', ' Kevin Nealon', ' Jason Statham', 'Daniel Day-Lewis', ' Rasmus Hardiker', ' Eddie Izzard', ' Audrey Tautou', ' Ken Watanabe', 'Dan Fogler', ' Shawn Roberts', ' Ryan Lee', ' Judy Greer', 'Sharlto Copley', 'Diego Luna', ' Colin Quinn', 'Maggie Grace', ' Riz Ahmed', ' Matt Damon', 'Ben Affleck', ' Alexis Clagett', 'Louis C.K.', ' George Clooney', 'Anika Noni Rose', ' Denis Leary', ' Moon Bloodgood', ' Randy Couture', 'Craig T. Nelson', ' Zac Efron', ' Cary-Hiroyuki Tagawa', ' Liam Hemsworth', ' Alison Sudol', ' Cary Elwes', 'Eric Bana', ' Jonathan Rhys Meyers', ' Vanessa Hudgens', ' Dennis Quaid', ' Paul Newman', ' Cam Gigandet', 'Nathalie Baye', 'Amanda Peet', 'Rhona Mitra', 'Emma Roberts', 'Nick Robinson', ' Tyne Daly', ' Charlize Theron', ' Carey Mulligan', ' Rhys Ifans', 'Harrison Ford', 'Morgan Freeman', ' Kristen Bell', ' Valerie Mahaffey', 'Olivia DeJonge', ' Lizzy Caplan', ' Charlie Tahan', 'Kristen Connolly', ' Juan Saavedra', ' John Boyega', 'Cillian Murphy', ' Jack Davenport', ' Thomas Lennon', ' Robert Duvall', ' Abbie Cornish', 'Callum Keith Rennie', ' Lucy Liu', ' David James'}\n"
     ]
    }
   ],
   "source": [
    "from collections import defaultdict, deque\n",
    "# Step 1: Initialize data structures\n",
    "actor_collaborations = defaultdict(set)\n",
    "\n",
    "# Step 2: Build the collaboration graph\n",
    "for actors in data['Actors']:\n",
    "    actors = actors.split('|')\n",
    "    for actor in actors:\n",
    "        actor_collaborations[actor].update(actors)\n",
    "\n",
    "# Step 3: Initialize BFS\n",
    "visited = set()\n",
    "queue = deque(['Johnny Depp'])\n",
    "collaborators = set()\n",
    "\n",
    "# Step 4: Perform BFS\n",
    "while queue:\n",
    "    current_actor = queue.popleft()\n",
    "    if current_actor not in visited:\n",
    "        visited.add(current_actor)\n",
    "        collaborators.update(actor_collaborations[current_actor])\n",
    "        queue.extend(actor_collaborations[current_actor] - visited)\n",
    "\n",
    "# Step 5: Remove Johnny Depp from the result\n",
    "collaborators.discard('Johnny Depp')\n",
    "print(collaborators)"
   ]
  }
 ],
 "metadata": {
  "kernelspec": {
   "display_name": "Python 3",
   "language": "python",
   "name": "python3"
  },
  "language_info": {
   "codemirror_mode": {
    "name": "ipython",
    "version": 3
   },
   "file_extension": ".py",
   "mimetype": "text/x-python",
   "name": "python",
   "nbconvert_exporter": "python",
   "pygments_lexer": "ipython3",
   "version": "3.11.5"
  }
 },
 "nbformat": 4,
 "nbformat_minor": 2
}
